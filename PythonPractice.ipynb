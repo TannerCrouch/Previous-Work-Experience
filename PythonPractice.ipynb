{
 "cells": [
  {
   "cell_type": "code",
   "execution_count": 3,
   "metadata": {},
   "outputs": [
    {
     "name": "stdout",
     "output_type": "stream",
     "text": [
      "Hi Tanner, you will turn 100 in the year 2101\n"
     ]
    }
   ],
   "source": [
    "name = input('What is your name?: ')\n",
    "age = int(input('What is your age'))\n",
    "year= 2022- age +100\n",
    "print(f\"Hi {name}, you will turn 100 in the year {year}\")"
   ]
  },
  {
   "cell_type": "code",
   "execution_count": 7,
   "metadata": {},
   "outputs": [
    {
     "name": "stdout",
     "output_type": "stream",
     "text": [
      "76 is an even number\n"
     ]
    }
   ],
   "source": [
    "number = int(input(\"Pick a number, any number\"))\n",
    "if number % 2 == 0:\n",
    "    print(f'{number} is an even number')\n",
    "else:\n",
    "    print(f'{number} is an odd number')"
   ]
  },
  {
   "cell_type": "code",
   "execution_count": null,
   "metadata": {},
   "outputs": [],
   "source": [
    "a = [1, 1, 2, 3, 5, 8, 13, 21, 34, 55, 89]\n",
    "for i in a:\n",
    "    if i <5:\n",
    "        print(i)\n",
    "    \n"
   ]
  },
  {
   "cell_type": "code",
   "execution_count": 24,
   "metadata": {},
   "outputs": [
    {
     "name": "stdout",
     "output_type": "stream",
     "text": [
      "[2, 1459, 2918]\n"
     ]
    }
   ],
   "source": [
    "number = int(input('What is your number'))\n",
    "x= range(2,number+1)\n",
    "divsorlist=[]\n",
    "for i in x:\n",
    "    if number % i ==0:\n",
    "        divsorlist.append(i)\n",
    "print(divsorlist)"
   ]
  },
  {
   "cell_type": "code",
   "execution_count": null,
   "metadata": {},
   "outputs": [],
   "source": [
    "a = [1, 1, 2, 3, 5, 8, 13, 21, 34, 55, 89]\n",
    "b = [1, 2, 3, 4, 5, 6, 7, 8, 9, 10, 11, 12, 13]\n",
    "\n",
    "for i in a:\n",
    "    if i in b:\n",
    "        print(i)"
   ]
  },
  {
   "cell_type": "code",
   "execution_count": 65,
   "metadata": {},
   "outputs": [
    {
     "name": "stdout",
     "output_type": "stream",
     "text": [
      "Never odd or even is not a palindrome\n"
     ]
    }
   ],
   "source": [
    "word=input('What is your word: ')\n",
    "Backwardsword= word[::-1]\n",
    "Backwardsword\n",
    "if word==Backwardsword:\n",
    "    print(f'{word} is a palindrome')\n",
    "else:\n",
    "    print(f'{word} is not a palindrome')"
   ]
  },
  {
   "cell_type": "code",
   "execution_count": null,
   "metadata": {},
   "outputs": [],
   "source": [
    "Player1= input('Rock Paper Scissors? ')\n",
    "Player2= input('Rock Paper Scissors? ')\n",
    "\n",
    "while Player1 == 'Rock':\n",
    "    if Player2 == 'Scissors':\n",
    "        print('Rock Beats Paper, Player 1 wins!')\n",
    "    if Player2 == 'Paper':\n",
    "        print('Paper Beats Rock!')"
   ]
  },
  {
   "cell_type": "code",
   "execution_count": 72,
   "metadata": {},
   "outputs": [
    {
     "name": "stdout",
     "output_type": "stream",
     "text": [
      "Too High, Try again\n",
      "You have guessed the number! It was 3. You used 1 guesses \n"
     ]
    }
   ],
   "source": [
    "import random\n",
    "number = random.randint(1,9)\n",
    "i=0\n",
    "guess=22\n",
    "while number != guess:\n",
    "    guess = int(input(\"Guess your number:\"))\n",
    "    if guess== number:\n",
    "        print(f'You have guessed the number! It was {number}. You used {i} guesses ')\n",
    "    elif guess< number:\n",
    "        print(\"Too Low, try again\")\n",
    "        i+=1\n",
    "    elif guess> number:\n",
    "        print(\"Too High, Try again\")\n",
    "        i+=1"
   ]
  },
  {
   "cell_type": "code",
   "execution_count": 81,
   "metadata": {},
   "outputs": [
    {
     "name": "stdout",
     "output_type": "stream",
     "text": [
      "83 is prime\n"
     ]
    }
   ],
   "source": [
    "number = int(input('What is your number'))\n",
    "x= range(2,number+1)\n",
    "divsorlist=[]\n",
    "for i in x:\n",
    "    if number % i ==0:\n",
    "        divsorlist.append(i)\n",
    "if len(divsorlist)==1:\n",
    "    print(f'{number} is prime')\n",
    "else:\n",
    "    print(f'{number} is not prime')"
   ]
  },
  {
   "cell_type": "code",
   "execution_count": null,
   "metadata": {},
   "outputs": [],
   "source": [
    "import pandas as pd\n",
    "import random\n",
    "WordDF = pd.read_csv('sowpods.txt')\n",
    "WordList = WordDF['AA'].tolist()\n",
    "def Hangman():\n",
    "    word = random.choice(WordList)\n",
    "    guessed=\"_\" * len(word)\n",
    "    word=list(word)\n",
    "    guessed= list(guessed)\n",
    "    print('Welcome to Hangman! You have 6 guesses!')\n",
    "    print(' '.join(guessed))\n",
    "    listguessed = []\n",
    "    letter = ''\n",
    "    i=6\n",
    "    while i>0:\n",
    "        letter = input('Guess a letter')\n",
    "        if letter.upper() in listguessed:\n",
    "            print('Already Guessed!')\n",
    "        elif letter.upper() in word:\n",
    "            listguessed.append(letter.upper())\n",
    "            guessed[word.index(letter.upper())]=letter.upper()\n",
    "            print(' '.join(guessed), f'you have {i} guesses left' )\n",
    "        else:\n",
    "            listguessed.append(letter.upper())\n",
    "            print(' '.join(guessed), f'you have {i} guesses left')\n",
    "            i=-1\n",
    "        if '_' not in guessed:\n",
    "            print('You Win!')\n",
    "            break\n",
    "Hangman()\n",
    "\n"
   ]
  },
  {
   "cell_type": "code",
   "execution_count": 15,
   "metadata": {},
   "outputs": [
    {
     "name": "stdout",
     "output_type": "stream",
     "text": [
      "1234\n",
      "0 cows. 0 bulls\n",
      "5678\n",
      "0 cows. 3 bulls\n",
      "9567\n",
      "2 cows. 0 bulls\n",
      "9867\n",
      "3 cows. 0 bulls\n",
      "9865\n",
      "2 cows. 0 bulls\n",
      "9856\n",
      "1 cows. 1 bulls\n",
      "9567\n",
      "2 cows. 0 bulls\n",
      "Please enter a 4 digit number\n",
      "\n",
      "0 cows. 0 bulls\n",
      "9768\n",
      "1 cows. 2 bulls\n",
      "9865\n",
      "2 cows. 0 bulls\n",
      "9857\n",
      "2 cows. 0 bulls\n",
      "9567\n",
      "2 cows. 0 bulls\n",
      "9812\n",
      "1 cows. 0 bulls\n",
      "9067\n",
      "2 cows. 0 bulls\n",
      "9867\n",
      "3 cows. 0 bulls\n",
      "5867\n",
      "3 cows. 0 bulls\n",
      "Please enter a 4 digit number\n",
      "\n",
      "0 cows. 0 bulls\n",
      "5867\n",
      "3 cows. 0 bulls\n",
      "5067\n",
      "2 cows. 0 bulls\n",
      "5860\n",
      "2 cows. 0 bulls\n",
      "5867\n",
      "3 cows. 0 bulls\n",
      "5967\n",
      "2 cows. 0 bulls\n",
      "5857\n",
      "2 cows. 0 bulls\n",
      "5867\n",
      "3 cows. 0 bulls\n",
      "Please enter a 4 digit number\n",
      "\n",
      "0 cows. 0 bulls\n",
      "5865\n",
      "2 cows. 0 bulls\n",
      "5867\n",
      "3 cows. 0 bulls\n",
      "5857\n",
      "2 cows. 0 bulls\n",
      "5887\n",
      "2 cows. 1 bulls\n",
      "5867\n",
      "3 cows. 0 bulls\n",
      "Please enter a 4 digit number\n",
      "\n",
      "0 cows. 0 bulls\n",
      "5867\n",
      "3 cows. 0 bulls\n",
      "5860\n",
      "2 cows. 0 bulls\n",
      "Please enter a 4 digit number\n",
      "\n",
      "0 cows. 0 bulls\n",
      "5867\n",
      "3 cows. 0 bulls\n",
      "5857\n",
      "2 cows. 0 bulls\n",
      "Please enter a 4 digit number\n",
      "\n",
      "0 cows. 0 bulls\n",
      "5847\n",
      "2 cows. 0 bulls\n",
      "5867\n",
      "3 cows. 0 bulls\n",
      "Please enter a 4 digit number\n",
      "\n",
      "0 cows. 0 bulls\n",
      "5967\n",
      "2 cows. 0 bulls\n",
      "5807\n",
      "2 cows. 0 bulls\n",
      "Please enter a 4 digit number\n",
      "\n",
      "0 cows. 0 bulls\n",
      "5867\n",
      "3 cows. 0 bulls\n",
      "Please enter a 4 digit number\n",
      "\n",
      "0 cows. 0 bulls\n",
      "Please enter a 4 digit number\n",
      "\n",
      "0 cows. 0 bulls\n",
      "Please enter a 4 digit number\n",
      "\n",
      "0 cows. 0 bulls\n",
      "Please enter a 4 digit number\n",
      "\n",
      "0 cows. 0 bulls\n",
      "Please enter a 4 digit number\n",
      "\n",
      "0 cows. 0 bulls\n"
     ]
    },
    {
     "ename": "KeyboardInterrupt",
     "evalue": "Interrupted by user",
     "output_type": "error",
     "traceback": [
      "\u001b[1;31m---------------------------------------------------------------------------\u001b[0m",
      "\u001b[1;31mKeyboardInterrupt\u001b[0m                         Traceback (most recent call last)",
      "\u001b[1;32mc:\\Users\\tcrouch\\Python\\Sandbox\\PythonPractice.ipynb Cell 11\u001b[0m in \u001b[0;36m<cell line: 9>\u001b[1;34m()\u001b[0m\n\u001b[0;32m     <a href='vscode-notebook-cell:/c%3A/Users/tcrouch/Python/Sandbox/PythonPractice.ipynb#ch0000010?line=9'>10</a>\u001b[0m bullcount \u001b[39m=\u001b[39m \u001b[39m0\u001b[39m\n\u001b[0;32m     <a href='vscode-notebook-cell:/c%3A/Users/tcrouch/Python/Sandbox/PythonPractice.ipynb#ch0000010?line=10'>11</a>\u001b[0m cowcount\u001b[39m=\u001b[39m\u001b[39m0\u001b[39m\n\u001b[1;32m---> <a href='vscode-notebook-cell:/c%3A/Users/tcrouch/Python/Sandbox/PythonPractice.ipynb#ch0000010?line=11'>12</a>\u001b[0m guess \u001b[39m=\u001b[39m \u001b[39minput\u001b[39;49m(\u001b[39m'\u001b[39;49m\u001b[39mGuess a 4 digit number\u001b[39;49m\u001b[39m'\u001b[39;49m)\n\u001b[0;32m     <a href='vscode-notebook-cell:/c%3A/Users/tcrouch/Python/Sandbox/PythonPractice.ipynb#ch0000010?line=12'>13</a>\u001b[0m \u001b[39mif\u001b[39;00m \u001b[39mlen\u001b[39m(guess) \u001b[39m!=\u001b[39m \u001b[39m4\u001b[39m:\n\u001b[0;32m     <a href='vscode-notebook-cell:/c%3A/Users/tcrouch/Python/Sandbox/PythonPractice.ipynb#ch0000010?line=13'>14</a>\u001b[0m     \u001b[39mprint\u001b[39m(\u001b[39m'\u001b[39m\u001b[39mPlease enter a 4 digit number\u001b[39m\u001b[39m'\u001b[39m)\n",
      "File \u001b[1;32m~\\AppData\\Local\\Packages\\PythonSoftwareFoundation.Python.3.10_qbz5n2kfra8p0\\LocalCache\\local-packages\\Python310\\site-packages\\ipykernel\\kernelbase.py:1177\u001b[0m, in \u001b[0;36mKernel.raw_input\u001b[1;34m(self, prompt)\u001b[0m\n\u001b[0;32m   1173\u001b[0m \u001b[39mif\u001b[39;00m \u001b[39mnot\u001b[39;00m \u001b[39mself\u001b[39m\u001b[39m.\u001b[39m_allow_stdin:\n\u001b[0;32m   1174\u001b[0m     \u001b[39mraise\u001b[39;00m StdinNotImplementedError(\n\u001b[0;32m   1175\u001b[0m         \u001b[39m\"\u001b[39m\u001b[39mraw_input was called, but this frontend does not support input requests.\u001b[39m\u001b[39m\"\u001b[39m\n\u001b[0;32m   1176\u001b[0m     )\n\u001b[1;32m-> 1177\u001b[0m \u001b[39mreturn\u001b[39;00m \u001b[39mself\u001b[39;49m\u001b[39m.\u001b[39;49m_input_request(\n\u001b[0;32m   1178\u001b[0m     \u001b[39mstr\u001b[39;49m(prompt),\n\u001b[0;32m   1179\u001b[0m     \u001b[39mself\u001b[39;49m\u001b[39m.\u001b[39;49m_parent_ident[\u001b[39m\"\u001b[39;49m\u001b[39mshell\u001b[39;49m\u001b[39m\"\u001b[39;49m],\n\u001b[0;32m   1180\u001b[0m     \u001b[39mself\u001b[39;49m\u001b[39m.\u001b[39;49mget_parent(\u001b[39m\"\u001b[39;49m\u001b[39mshell\u001b[39;49m\u001b[39m\"\u001b[39;49m),\n\u001b[0;32m   1181\u001b[0m     password\u001b[39m=\u001b[39;49m\u001b[39mFalse\u001b[39;49;00m,\n\u001b[0;32m   1182\u001b[0m )\n",
      "File \u001b[1;32m~\\AppData\\Local\\Packages\\PythonSoftwareFoundation.Python.3.10_qbz5n2kfra8p0\\LocalCache\\local-packages\\Python310\\site-packages\\ipykernel\\kernelbase.py:1219\u001b[0m, in \u001b[0;36mKernel._input_request\u001b[1;34m(self, prompt, ident, parent, password)\u001b[0m\n\u001b[0;32m   1216\u001b[0m             \u001b[39mbreak\u001b[39;00m\n\u001b[0;32m   1217\u001b[0m \u001b[39mexcept\u001b[39;00m \u001b[39mKeyboardInterrupt\u001b[39;00m:\n\u001b[0;32m   1218\u001b[0m     \u001b[39m# re-raise KeyboardInterrupt, to truncate traceback\u001b[39;00m\n\u001b[1;32m-> 1219\u001b[0m     \u001b[39mraise\u001b[39;00m \u001b[39mKeyboardInterrupt\u001b[39;00m(\u001b[39m\"\u001b[39m\u001b[39mInterrupted by user\u001b[39m\u001b[39m\"\u001b[39m) \u001b[39mfrom\u001b[39;00m \u001b[39mNone\u001b[39m\n\u001b[0;32m   1220\u001b[0m \u001b[39mexcept\u001b[39;00m \u001b[39mException\u001b[39;00m:\n\u001b[0;32m   1221\u001b[0m     \u001b[39mself\u001b[39m\u001b[39m.\u001b[39mlog\u001b[39m.\u001b[39mwarning(\u001b[39m\"\u001b[39m\u001b[39mInvalid Message:\u001b[39m\u001b[39m\"\u001b[39m, exc_info\u001b[39m=\u001b[39m\u001b[39mTrue\u001b[39;00m)\n",
      "\u001b[1;31mKeyboardInterrupt\u001b[0m: Interrupted by user"
     ]
    }
   ],
   "source": [
    "digit1= str(random.randint(0,9))\n",
    "digit2= str(random.randint(0,9))\n",
    "digit3= str(random.randint(0,9))\n",
    "digit4= str(random.randint(0,9))\n",
    "randomnumber=digit1+digit2+digit3+digit4\n",
    "bullcount = 0\n",
    "cowcount=0\n",
    "guess=''\n",
    "while guess != randomnumber:\n",
    "    bullcount = 0\n",
    "    cowcount=0\n",
    "    guess = input('Guess a 4 digit number')\n",
    "    if len(guess) != 4:\n",
    "        print('Please enter a 4 digit number')\n",
    "    print(guess)\n",
    "    for i in range(len(guess)):\n",
    "        if randomnumber[i]==guess[i]:\n",
    "            cowcount +=1\n",
    "        if guess[i] in randomnumber and randomnumber[i]!=guess[i]:\n",
    "            bullcount += 1 \n",
    "    print(f'{cowcount} cows. {bullcount} bulls')\n",
    "    if guess == randomnumber:\n",
    "        print('You win!')\n",
    "\n",
    "\n"
   ]
  },
  {
   "cell_type": "code",
   "execution_count": 16,
   "metadata": {},
   "outputs": [
    {
     "name": "stdout",
     "output_type": "stream",
     "text": [
      "6867\n"
     ]
    }
   ],
   "source": [
    "print(randomnumber)"
   ]
  }
 ],
 "metadata": {
  "kernelspec": {
   "display_name": "Python 3.10.5 64-bit (windows store)",
   "language": "python",
   "name": "python3"
  },
  "language_info": {
   "codemirror_mode": {
    "name": "ipython",
    "version": 3
   },
   "file_extension": ".py",
   "mimetype": "text/x-python",
   "name": "python",
   "nbconvert_exporter": "python",
   "pygments_lexer": "ipython3",
   "version": "3.10.5"
  },
  "orig_nbformat": 4,
  "vscode": {
   "interpreter": {
    "hash": "c4e1acd118ab8061854f053fd54ed8b4261f5a992a028a96bea4bc05dcdf42f1"
   }
  }
 },
 "nbformat": 4,
 "nbformat_minor": 2
}
