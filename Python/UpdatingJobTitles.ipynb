{
 "cells": [
  {
   "cell_type": "code",
   "execution_count": 6,
   "metadata": {},
   "outputs": [],
   "source": [
    "import requests\n",
    "import pandas as pd\n",
    "import json\n",
    "import UpdatingJobTItlesHeaders as U\n"
   ]
  },
  {
   "cell_type": "code",
   "execution_count": 5,
   "metadata": {},
   "outputs": [],
   "source": [
    "payload={}\n",
    "response = requests.request(\"GET\", U.WorkDayurl, headers=U.WorkDayheaders, data=payload)\n",
    "json_response=response.json()\n",
    "WorkDayDF= pd.DataFrame.from_dict(json_response['Report_Entry'])"
   ]
  },
  {
   "cell_type": "code",
   "execution_count": 2,
   "metadata": {},
   "outputs": [],
   "source": [
    "pd.set_option(\"display.max_rows\", None)"
   ]
  },
  {
   "cell_type": "code",
   "execution_count": null,
   "metadata": {},
   "outputs": [],
   "source": [
    "\n",
    "payload={}\n",
    "response = requests.get(U.Cosentialurl, headers=U.headers_dict, data=payload)\n",
    "json_response = response.json()\n",
    "\n",
    "APIdf = pd.DataFrame.from_dict(json_response)\n",
    "\n",
    "\n",
    "response2 = requests.get(U.Cosentialurl2, headers=U.headers_dict, data=payload)\n",
    "json_response2 = response2.json()\n",
    "\n",
    "APIdf2 = pd.DataFrame.from_dict(json_response2)\n",
    "\n",
    "DataFrame = pd.concat([APIdf,APIdf2])\n",
    "SmallDataFrame = DataFrame[['PersonnelId', 'OfficeEmail', 'FirstName', 'LastName', 'Status', 'Title']]\n",
    "ActiveCosentialdf = SmallDataFrame[SmallDataFrame['Status']=='Active']\n",
    "ActiveCosentialdf['OfficeEmail']= ActiveCosentialdf['OfficeEmail'].str.lower()"
   ]
  },
  {
   "cell_type": "code",
   "execution_count": null,
   "metadata": {},
   "outputs": [],
   "source": [
    "InnerJoinDF = pd.merge(WorkDayDF, ActiveCosentialdf, left_on='Email', right_on='OfficeEmail', how='inner')\n",
    "InnerJoinDF = InnerJoinDF.rename(columns={'Title': 'Old Job Title', 'JobTitle':'New Job Title'} )\n",
    "NotMatchingJob = InnerJoinDF[InnerJoinDF['Old Job Title'] !=InnerJoinDF['New Job Title']]\n",
    "NotMatchingJob = NotMatchingJob[NotMatchingJob['Email'].notnull()]\n",
    "NotMatchingJob"
   ]
  },
  {
   "cell_type": "code",
   "execution_count": 16,
   "metadata": {},
   "outputs": [],
   "source": [
    "file_name = 'Non-matching job titles Workday.csv'\n",
    "NotMatchingJob.to_csv(file_name)"
   ]
  },
  {
   "cell_type": "code",
   "execution_count": null,
   "metadata": {},
   "outputs": [],
   "source": [
    "WorkdayDFtoDict= InnerJoinDF.to_dict('records')\n",
    "WorkdayNotMatchingJobDict=NotMatchingJob.to_dict('records')\n",
    "WorkdayNotMatchingJobDict"
   ]
  },
  {
   "cell_type": "code",
   "execution_count": null,
   "metadata": {},
   "outputs": [],
   "source": [
    "i=0\n",
    "for i in range(len(WorkdayNotMatchingJobDict)):\n",
    "    payload = json.dumps({\"Title\":WorkdayNotMatchingJobDict[i]['New Job Title']})\n",
    "    Testresponse = requests.put(f\"{U.Cosentialurl3}{WorkdayNotMatchingJobDict[i]['PersonnelId']}\", headers=U.headers_dict, \n",
    "    data=payload)\n",
    "    json_Testresponse = Testresponse.json()\n",
    "    print(json_Testresponse['FirstName'],json_Testresponse['LastName'],json_Testresponse['PersonnelId'], json_Testresponse['Title'])"
   ]
  }
 ],
 "metadata": {
  "kernelspec": {
   "display_name": "Python 3.10.4 64-bit",
   "language": "python",
   "name": "python3"
  },
  "language_info": {
   "codemirror_mode": {
    "name": "ipython",
    "version": 3
   },
   "file_extension": ".py",
   "mimetype": "text/x-python",
   "name": "python",
   "nbconvert_exporter": "python",
   "pygments_lexer": "ipython3",
   "version": "3.10.4"
  },
  "orig_nbformat": 4,
  "vscode": {
   "interpreter": {
    "hash": "e0ec2ff38923ea774ee1f28e54ac259c2c10a63e77702f244536a38cd64c4cb4"
   }
  }
 },
 "nbformat": 4,
 "nbformat_minor": 2
}
