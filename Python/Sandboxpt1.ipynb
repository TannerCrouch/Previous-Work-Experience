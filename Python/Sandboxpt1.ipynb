{
 "cells": [
  {
   "cell_type": "code",
   "execution_count": 2,
   "metadata": {},
   "outputs": [
    {
     "name": "stdout",
     "output_type": "stream",
     "text": [
      "JohnSmith\n",
      "20\n"
     ]
    }
   ],
   "source": [
    "age = 20\n",
    "price= 19.95\n",
    "first_name = \"John\"\n",
    "last_name = \"Smith\"\n",
    "full_name= (first_name + last_name)\n",
    "print(full_name)\n",
    "is_online = True\n",
    "print(age) #String\n"
   ]
  },
  {
   "cell_type": "code",
   "execution_count": 3,
   "metadata": {},
   "outputs": [
    {
     "name": "stdout",
     "output_type": "stream",
     "text": [
      "Hello Tanner\n"
     ]
    }
   ],
   "source": [
    "name = input(\"What is your name? \") #Creates an input for the user to enter information in\n",
    "print(\"Hello \"+ name)\n",
    "\n"
   ]
  },
  {
   "cell_type": "code",
   "execution_count": 4,
   "metadata": {},
   "outputs": [
    {
     "name": "stdout",
     "output_type": "stream",
     "text": [
      "22\n"
     ]
    }
   ],
   "source": [
    "birth_year = input(\"Enter your birth year: \") #input always gives us a string\n",
    "age = 2022 - int(birth_year) #Need to change variable type to integer to subtract \n",
    "print(age)\n"
   ]
  },
  {
   "cell_type": "markdown",
   "metadata": {},
   "source": [
    "int()\n",
    "float()\n",
    "str()\n",
    "bool()"
   ]
  },
  {
   "cell_type": "code",
   "execution_count": 36,
   "metadata": {},
   "outputs": [
    {
     "name": "stdout",
     "output_type": "stream",
     "text": [
      "Sum: 28.2\n"
     ]
    }
   ],
   "source": [
    "First = float(input(\"What is your first number? \"))\n",
    "Second= float(input(\"What is your second number? \"))\n",
    "sum = First+ Second\n",
    "print(\"Sum: \" + str(sum)) #need sum to be a string\n",
    "\n"
   ]
  },
  {
   "cell_type": "code",
   "execution_count": 46,
   "metadata": {},
   "outputs": [
    {
     "name": "stdout",
     "output_type": "stream",
     "text": [
      "PYTHON FOR BEGINNERS\n",
      "Python for Beginners\n",
      "python for beginners\n",
      "7\n",
      "Python 4 Beginners\n",
      "True\n"
     ]
    }
   ],
   "source": [
    "course = 'Python for Beginners'\n",
    "print(course.upper())\n",
    "print(course)\n",
    "print(course.lower())\n",
    "print(course.find('for'))\n",
    "print(course.replace('for', '4'))\n",
    "print('Python' in course)"
   ]
  },
  {
   "cell_type": "code",
   "execution_count": 56,
   "metadata": {},
   "outputs": [
    {
     "name": "stdout",
     "output_type": "stream",
     "text": [
      "13\n",
      "3.3333333333333335\n",
      "3\n",
      "1\n",
      "9\n"
     ]
    }
   ],
   "source": [
    "print(10 + 3)\n",
    "print(10/3)\n",
    "print(10//3) #gets integer\n",
    "print(10%3) #gets remainder \n",
    "print(10^3)\n",
    "x=10\n",
    "x=x+3 # These two are the same\n",
    "x += 3 #\n",
    "x *= 3"
   ]
  },
  {
   "cell_type": "code",
   "execution_count": 62,
   "metadata": {},
   "outputs": [
    {
     "name": "stdout",
     "output_type": "stream",
     "text": [
      "True\n",
      "False\n",
      "False\n"
     ]
    }
   ],
   "source": [
    "x = 3> 2 #Boolean expression\n",
    "print(x)\n",
    "x = 3 ==2\n",
    "print(x)\n",
    "x = 3!=3 #Not equal to\n",
    "print(x)\n"
   ]
  },
  {
   "cell_type": "code",
   "execution_count": 66,
   "metadata": {},
   "outputs": [
    {
     "name": "stdout",
     "output_type": "stream",
     "text": [
      "True\n",
      "True\n",
      "True\n",
      "False\n"
     ]
    }
   ],
   "source": [
    "#Logical operators \n",
    "price= 25\n",
    "print(price >10)\n",
    "print(price > 10 and price <30) #And \n",
    "print(price >50 or price < 30) #Or \n",
    "print(not price >10) #not \n"
   ]
  },
  {
   "cell_type": "code",
   "execution_count": 79,
   "metadata": {},
   "outputs": [
    {
     "name": "stdout",
     "output_type": "stream",
     "text": [
      "it's cold\n",
      "Done\n"
     ]
    }
   ],
   "source": [
    "#If statements\n",
    "\n",
    "temperature = 30\n",
    "\n",
    "if temperature > 90:   # \":\" works as then. Has to be indented to be apart of the if statement \n",
    "    print(\"It's a hot day\")\n",
    "    print(\"Drink plenty of water\")\n",
    "elif temperature > 70: #(70,90]\n",
    "    print(\"It's a nice day\")\n",
    "    print(\"Drink some water I suppose\")\n",
    "elif temperature > 50: #(50,70]\n",
    "    print(\"It's a bit cold\")\n",
    "else: #If none of the previous statements are true\n",
    "    print(\"it's cold\")\n",
    "print(\"Done\")\n",
    "\n"
   ]
  },
  {
   "cell_type": "code",
   "execution_count": 87,
   "metadata": {},
   "outputs": [
    {
     "name": "stdout",
     "output_type": "stream",
     "text": [
      "Weight in kgs: 81.64672369841516\n"
     ]
    }
   ],
   "source": [
    "Weight = float(input(\"Weight: \"))\n",
    "Unit = input(\"(K)g or (L)bs: \")\n",
    "if Unit.upper() == \"L\":\n",
    "    print(\"Weight in kgs: \" + str(Weight/2.20462))\n",
    "elif Unit.upper() == \"K\":\n",
    "    print(\"Weight in lbs: \" + str(Weight*2.20462))\n",
    "\n",
    "\n"
   ]
  },
  {
   "cell_type": "code",
   "execution_count": 91,
   "metadata": {},
   "outputs": [
    {
     "name": "stdout",
     "output_type": "stream",
     "text": [
      "*\n",
      "**\n",
      "***\n",
      "****\n",
      "*****\n",
      "******\n",
      "*******\n",
      "********\n",
      "*********\n",
      "**********\n"
     ]
    }
   ],
   "source": [
    "#While loops\n",
    "i = 1 \n",
    "while i <= 10:\n",
    "    print(i * '*') #Repeats the string over again. when i is 6, there are 6 astericks \n",
    "    i=i +1    \n",
    "#Count to 10. Keeps running over and over again until while is no longer true"
   ]
  },
  {
   "cell_type": "code",
   "execution_count": 99,
   "metadata": {},
   "outputs": [
    {
     "name": "stdout",
     "output_type": "stream",
     "text": [
      "['John', 'Bob', 'Tanner', 'Sam', 'Mary']\n",
      "John\n",
      "Mary\n",
      "Sam\n",
      "['Jon', 'Bob', 'Tanner', 'Sam', 'Mary']\n",
      "['Jon', 'Bob', 'Tanner']\n"
     ]
    }
   ],
   "source": [
    "#Lists \n",
    "\n",
    "names = [\"John\", \"Bob\", \"Tanner\", \"Sam\", \"Mary\"]\n",
    "print(names)\n",
    "print(names[0]) #First element is 0\n",
    "print(names[-1]) #Last element of list\n",
    "print(names[-2]) #second to last element\n",
    "names[0] = \"Jon\" #Change the first name\n",
    "print(names)\n",
    "print(names[0:3]) #Doesn't include 3 "
   ]
  },
  {
   "cell_type": "code",
   "execution_count": 109,
   "metadata": {},
   "outputs": [
    {
     "name": "stdout",
     "output_type": "stream",
     "text": [
      "[1, 2, 3, 4, 5, 6]\n",
      "[-1, 1, 2, 3, 4, 5, 6]\n",
      "[-1, 1, 2, 4, 5, 6]\n",
      "[-1, 1, 2, 4, 5, 6]\n",
      "True\n",
      "6\n"
     ]
    }
   ],
   "source": [
    "numbers = [1,2,3,4,5]\n",
    "numbers.append(6) #adds 6 to end \n",
    "print(numbers)\n",
    "numbers.insert(0,-1) #adds -1 to beginning of list\n",
    "print(numbers) \n",
    "numbers.remove(3) #Removes 3\n",
    "print(numbers)\n",
    "#numbers.clear() #Clears the list\n",
    "print(numbers)\n",
    "print(1 in numbers) #Boolean expression\n",
    "print(len(numbers)) #Number of elements in list\n",
    "\n"
   ]
  },
  {
   "cell_type": "code",
   "execution_count": 113,
   "metadata": {},
   "outputs": [
    {
     "name": "stdout",
     "output_type": "stream",
     "text": [
      "[1, 2, 3, 4, 5]\n",
      "1\n",
      "2\n",
      "3\n",
      "4\n",
      "5\n"
     ]
    }
   ],
   "source": [
    "#For loops\n",
    "numbers = [1,2,3,4,5]\n",
    "print(numbers) #Looks just like above\n",
    "for item in numbers: \n",
    "    print(item) #Each item on a new line\n",
    "\n"
   ]
  },
  {
   "cell_type": "code",
   "execution_count": 119,
   "metadata": {},
   "outputs": [
    {
     "name": "stdout",
     "output_type": "stream",
     "text": [
      "range(5, 10)\n",
      "5\n",
      "6\n",
      "7\n",
      "8\n",
      "9\n",
      "5\n",
      "7\n",
      "9\n",
      "0\n",
      "1\n",
      "2\n",
      "3\n",
      "4\n"
     ]
    }
   ],
   "source": [
    "#Range function\n",
    "numbers = range(5,10) #Between 5 and 10\n",
    "print(numbers)\n",
    "\n",
    "for number in numbers:\n",
    "    print(number)\n",
    "\n",
    "numbers = range(5,10,2) #Every 2nd number in the range\n",
    "for number in numbers:\n",
    "    print(number)\n",
    "\n",
    "for number in range(5):\n",
    "    print(number)"
   ]
  },
  {
   "cell_type": "code",
   "execution_count": 123,
   "metadata": {},
   "outputs": [
    {
     "data": {
      "text/plain": [
       "2"
      ]
     },
     "execution_count": 123,
     "metadata": {},
     "output_type": "execute_result"
    }
   ],
   "source": [
    "#Tuples \n",
    "numbers = [1,2,3] #Square brackets for list\n",
    "numbers = (1,2,3,3) #Tubbles are paranthesis, can't be altered down the road\n",
    "numbers.count(3) #How many threes are there \n"
   ]
  },
  {
   "cell_type": "code",
   "execution_count": 125,
   "metadata": {},
   "outputs": [
    {
     "name": "stdout",
     "output_type": "stream",
     "text": [
      "    /|\n",
      "   / |\n",
      "  /  |\n",
      " /   |\n",
      "/____|\n"
     ]
    }
   ],
   "source": [
    "#Drawing a triange\n",
    "print(\"    /|\")\n",
    "print(\"   / |\")\n",
    "print(\"  /  |\")\n",
    "print(\" /   |\")\n",
    "print(\"/____|\")"
   ]
  },
  {
   "cell_type": "code",
   "execution_count": 133,
   "metadata": {},
   "outputs": [
    {
     "name": "stdout",
     "output_type": "stream",
     "text": [
      "Giraffe\n",
      "Academy\n",
      "G\n",
      "i\n",
      "0\n",
      "Elephant Academy\n"
     ]
    }
   ],
   "source": [
    "print(\"Giraffe\\nAcademy\")\n",
    "phrase = \"Giraffe Academy\" #Displays on two different rows\n",
    "len(phrase) #number of characters in the string \n",
    "print(phrase[0]) #first character\n",
    "print(phrase[1]) #second character\n",
    "print(phrase.index('G')) #shows ndex  of G\n",
    "print(phrase.replace(\"Giraffe\", \"Elephant\"))"
   ]
  },
  {
   "cell_type": "code",
   "execution_count": 141,
   "metadata": {},
   "outputs": [
    {
     "name": "stdout",
     "output_type": "stream",
     "text": [
      "4096.0\n",
      "6\n",
      "4\n",
      "5\n",
      "3\n",
      "4\n"
     ]
    }
   ],
   "source": [
    "print(pow(4,6))\n",
    "print(max(4,6))\n",
    "print(min(4,65))\n",
    "print(round(5.2))\n",
    "from math import * #Accesses to more math functions\n",
    "print(floor(3.7)) #rounds down\n",
    "print(ceil(3.1)) #Rounds up"
   ]
  },
  {
   "cell_type": "code",
   "execution_count": 143,
   "metadata": {},
   "outputs": [
    {
     "name": "stdout",
     "output_type": "stream",
     "text": [
      "Roses are purple\n",
      "computers are blue\n",
      "I love Stephen Curry\n"
     ]
    }
   ],
   "source": [
    "# Mad libs game\n",
    "color=input(\"Enter a color\")\n",
    "plural_noun=input(\"Enter a plural_noun\")\n",
    "celebrity =input(\"Enter a celebrity\")\n",
    "\n",
    "print(\"Roses are \"+ color)\n",
    "print(plural_noun + \" are blue\")\n",
    "print(\"I love \"+ celebrity)\n",
    "\n"
   ]
  },
  {
   "cell_type": "code",
   "execution_count": 1,
   "metadata": {},
   "outputs": [
    {
     "name": "stdout",
     "output_type": "stream",
     "text": [
      "Hello Tanner you are 21\n",
      "Hello Katherine you are 20\n"
     ]
    }
   ],
   "source": [
    "def say_hi(Name, Age): #def creates a function, insert name\n",
    "    print(\"Hello \"+ Name + \" you are \"+ Age)\n",
    "\n",
    "say_hi(\"Tanner\", \"21\")\n",
    "say_hi(\"Katherine\", \"20\")\n"
   ]
  },
  {
   "cell_type": "code",
   "execution_count": 165,
   "metadata": {},
   "outputs": [
    {
     "name": "stdout",
     "output_type": "stream",
     "text": [
      "27\n"
     ]
    }
   ],
   "source": [
    "def cube(num):\n",
    "    return num*num*num #return allows us to return the number back to me\n",
    "result = cube(3)\n",
    "print(result)"
   ]
  },
  {
   "cell_type": "code",
   "execution_count": 173,
   "metadata": {},
   "outputs": [
    {
     "data": {
      "text/plain": [
       "100"
      ]
     },
     "execution_count": 173,
     "metadata": {},
     "output_type": "execute_result"
    }
   ],
   "source": [
    "def max_num (num1, num2, num3):\n",
    "    if num1 >= num2 and num1>= num3:\n",
    "        return num1\n",
    "    elif num2 >= num1 and num2 >= num3:\n",
    "        return num2\n",
    "    else:\n",
    "        return num3\n",
    "max_num(27,90,100)\n"
   ]
  },
  {
   "cell_type": "code",
   "execution_count": 179,
   "metadata": {},
   "outputs": [
    {
     "name": "stdout",
     "output_type": "stream",
     "text": [
      "1\n",
      "2\n",
      "3\n",
      "4\n",
      "5\n",
      "6\n",
      "7\n",
      "8\n",
      "9\n",
      "10\n"
     ]
    }
   ],
   "source": [
    "i = 1\n",
    "while i <= 10:\n",
    "    print(i)\n",
    "    i+=1\n"
   ]
  },
  {
   "cell_type": "code",
   "execution_count": 4,
   "metadata": {},
   "outputs": [
    {
     "name": "stdout",
     "output_type": "stream",
     "text": [
      "Not a valid key\n"
     ]
    }
   ],
   "source": [
    "#Creating a dictionary, need the curly brackets\n",
    "monthConversions = {\n",
    "    \"Jan\": \"January\",\n",
    "    \"Feb\": \"February\",\n",
    "    \"Mar\": \"March\",\n",
    "    \"Apr\": \"April\",\n",
    "    \"May\": \"May\",\n",
    "    \"Jun\": \"June\",\n",
    "    \"Jul\": \"July\",\n",
    "    \"Aug\": \"August\",\n",
    "    \"Sep\": \"September\",\n",
    "    \"Oct\": \"October\",\n",
    "    \"Nov\": \"November\",\n",
    "    \"Dec\": \"December\",\n",
    "    }\n",
    "monthConversions.get(\"Dec\")\n",
    "print(monthConversions.get(\"Luv\", \"Not a valid key\"))"
   ]
  },
  {
   "cell_type": "code",
   "execution_count": 1,
   "metadata": {},
   "outputs": [
    {
     "name": "stdout",
     "output_type": "stream",
     "text": [
      "You win! :)\n"
     ]
    }
   ],
   "source": [
    "#Building a guessing game with while loops\n",
    "secret_word = \"Elephant\"\n",
    "guess = \"\"\n",
    "guess_count = 0\n",
    "max_guess = 5\n",
    "out_of_guesses = False\n",
    "\n",
    "while guess != secret_word and not(out_of_guesses):\n",
    "    if guess_count < max_guess:\n",
    "        guess = input(\"Enter word: \")\n",
    "        guess_count += 1 \n",
    "    else:\n",
    "        out_of_guesses = True\n",
    "\n",
    "if guess == secret_word:\n",
    "    print(\"You win! :)\")\n",
    "else:\n",
    "    print(\"You lose :( \")\n"
   ]
  },
  {
   "cell_type": "code",
   "execution_count": 2,
   "metadata": {},
   "outputs": [
    {
     "name": "stdout",
     "output_type": "stream",
     "text": [
      "P\n",
      "o\n",
      "t\n",
      "a\n",
      "t\n",
      "o\n",
      " \n",
      "C\n",
      "h\n",
      "i\n",
      "p\n",
      "Bob\n",
      "Drew\n"
     ]
    }
   ],
   "source": [
    "for letter in \"Potato Chip\":\n",
    "    print(letter)\n",
    "\n",
    "friends = [\"Bob\", \"Drew\", \"Carly\"] #cat works I suppose\n",
    "for cat in friends[0:2]:\n",
    "    print(cat)"
   ]
  },
  {
   "cell_type": "code",
   "execution_count": null,
   "metadata": {},
   "outputs": [],
   "source": [
    "#2D lists \n",
    "\n",
    "number_grid= [\n",
    "   [1,2,3],\n",
    "   [4,5,6],\n",
    "   [7,8,9],\n",
    "   [0]\n",
    "]\n",
    "\n",
    "\n",
    "for row in number_grid:\n",
    "   print(row)\n",
    "print(number_grid[2][1])\n"
   ]
  },
  {
   "cell_type": "code",
   "execution_count": 3,
   "metadata": {},
   "outputs": [
    {
     "name": "stdout",
     "output_type": "stream",
     "text": [
      "1\n",
      "2\n",
      "3\n",
      "4\n",
      "5\n",
      "6\n",
      "7\n",
      "8\n",
      "9\n",
      "0\n"
     ]
    }
   ],
   "source": [
    "#nested loops\n",
    "for row in number_grid:\n",
    "    for col in row:\n",
    "        print(col)"
   ]
  },
  {
   "cell_type": "code",
   "execution_count": 199,
   "metadata": {},
   "outputs": [
    {
     "name": "stdout",
     "output_type": "stream",
     "text": [
      "dgg\n"
     ]
    }
   ],
   "source": [
    "#Building a translator\n",
    "def translate(phrase):\n",
    "    translation = \"\"\n",
    "    for letter in phrase:\n",
    "        if letter in \"AEIOUaeiou\":\n",
    "            translation = translation + \"g\"\n",
    "        else:\n",
    "            translation = translation + letter\n",
    "    return translation\n",
    "\n",
    "print(translate(input(\"Enter a phrase\")))"
   ]
  },
  {
   "cell_type": "code",
   "execution_count": 203,
   "metadata": {},
   "outputs": [
    {
     "name": "stdout",
     "output_type": "stream",
     "text": [
      "Pig Latin:  annertay ashay eryvay icenay airhay\n"
     ]
    }
   ],
   "source": [
    "sentence= input('Enter a Sentence: ').lower()\n",
    "words = sentence.split()\n",
    "\n",
    "for i, word in enumerate(words):\n",
    "    if word[0] in 'aeiou':\n",
    "        words[i]= words[i]+ \"ay\"\n",
    "    else:\n",
    "        has_vowel=False\n",
    "\n",
    "        for j, letter in enumerate(word):\n",
    "            if letter in 'aeuio':\n",
    "                words[i]= word[j:] + word[:j] + \"ay\"\n",
    "                has_vowel = True\n",
    "                break\n",
    "        if(has_vowel == False):\n",
    "            words[i] = words[i] = words[i]+ \"ay\"\n",
    "\n",
    "pig_latin = ' '.join(words)\n",
    "print(\"Pig Latin: \", pig_latin)\n",
    "\n",
    "\n"
   ]
  },
  {
   "cell_type": "code",
   "execution_count": 206,
   "metadata": {},
   "outputs": [
    {
     "name": "stdout",
     "output_type": "stream",
     "text": [
      "Invalid input\n"
     ]
    }
   ],
   "source": [
    "#Avoiding errors\n",
    "try:\n",
    "    number = int(input(\"Enter a number\"))\n",
    "    print(number)\n",
    "except:\n",
    "    print(\"Invalid input\")"
   ]
  },
  {
   "cell_type": "code",
   "execution_count": 221,
   "metadata": {},
   "outputs": [
    {
     "name": "stdout",
     "output_type": "stream",
     "text": [
      "Jim - Salesman\n",
      "\n",
      "Dwight - Salesman\n",
      "\n"
     ]
    }
   ],
   "source": [
    "#Reading downloaded files\n",
    "employee_file = open(\"employees.txt\", \"r\" )\n",
    "\n",
    "print(employee_file.readline())\n",
    "print(employee_file.readline())\n",
    "\n",
    "#employee.file.close()"
   ]
  }
 ],
 "metadata": {
  "interpreter": {
   "hash": "e0ec2ff38923ea774ee1f28e54ac259c2c10a63e77702f244536a38cd64c4cb4"
  },
  "kernelspec": {
   "display_name": "Python 3.10.4 64-bit",
   "language": "python",
   "name": "python3"
  },
  "language_info": {
   "codemirror_mode": {
    "name": "ipython",
    "version": 3
   },
   "file_extension": ".py",
   "mimetype": "text/x-python",
   "name": "python",
   "nbconvert_exporter": "python",
   "pygments_lexer": "ipython3",
   "version": "3.10.4"
  },
  "orig_nbformat": 4
 },
 "nbformat": 4,
 "nbformat_minor": 2
}
