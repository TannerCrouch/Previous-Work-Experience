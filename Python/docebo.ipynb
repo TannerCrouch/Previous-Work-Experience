{
 "cells": [
  {
   "cell_type": "code",
   "execution_count": 1,
   "metadata": {},
   "outputs": [],
   "source": [
    "from functions import get_access_token, sign_jwt\n",
    "import requests\n",
    "import json\n",
    "import pandas as pd\n",
    "from sqlalchemy import create_engine \n",
    "import datetime as dt\n",
    "import hashlib\n",
    "import urllib\n",
    "from config import prod_params"
   ]
  },
  {
   "cell_type": "code",
   "execution_count": 2,
   "metadata": {},
   "outputs": [],
   "source": [
    "SECRET_KEY = open('private.key', 'r').read()"
   ]
  },
  {
   "cell_type": "code",
   "execution_count": 3,
   "metadata": {},
   "outputs": [],
   "source": [
    "jwt = sign_jwt(SECRET_KEY)\n",
    "access_token = get_access_token(jwt)\n",
    "headers = {'Authorization': \"Bearer \" + access_token}"
   ]
  },
  {
   "cell_type": "code",
   "execution_count": 5,
   "metadata": {},
   "outputs": [],
   "source": [
    "### list of certificates \n",
    "certification_url = 'https://mccowngordon.docebosaas.com/learn/v1/certification'\n",
    "certification_request = requests.get(url=certification_url, headers=headers)\n",
    "certification_json = json.loads(certification_request.text)\n",
    "certification_responses=list()\n",
    "i=1\n",
    "while certification_json['data']['has_more_data']== True:\n",
    "    certification_url = f'https://mccowngordon.docebosaas.com/learn/v1/certification?page={i}'\n",
    "    certification_request = requests.get(url=certification_url, headers=headers)\n",
    "    certification_json = json.loads(certification_request.text)\n",
    "    certification_json_data = certification_json['data']['items']\n",
    "    certification_responses.append(certification_json_data)\n",
    "    i+=1\n"
   ]
  },
  {
   "cell_type": "code",
   "execution_count": 6,
   "metadata": {},
   "outputs": [],
   "source": [
    "certificationsDF = pd.concat([pd.json_normalize(i)for i in certification_responses])"
   ]
  },
  {
   "cell_type": "code",
   "execution_count": 7,
   "metadata": {},
   "outputs": [],
   "source": [
    "#Gets all Courses\n",
    "courses_url = 'https://mccowngordon.docebosaas.com/learn/v1/courses'\n",
    "courses_request = requests.get(url=courses_url, headers=headers)\n",
    "courses_json = json.loads(courses_request.text)\n",
    "courses_responses=list()\n",
    "i=1\n",
    "while courses_json['data']['has_more_data']== True:\n",
    "    courses_url = f'https://mccowngordon.docebosaas.com/learn/v1/courses?page={i}'\n",
    "    courses_request = requests.get(url=courses_url, headers=headers)\n",
    "    courses_json = json.loads(courses_request.text)\n",
    "    courses_json_data = courses_json['data']['items']\n",
    "    courses_responses.append(courses_json_data)\n",
    "    i+=1\n",
    "\n"
   ]
  },
  {
   "cell_type": "code",
   "execution_count": null,
   "metadata": {},
   "outputs": [],
   "source": [
    "courses_url = 'https://mccowngordon.docebosaas.com/learn/v1/courses'\n",
    "courses_request = requests.get(url=courses_url, headers=headers)\n",
    "courses_json = json.loads(courses_request.text)\n",
    "courses_json"
   ]
  },
  {
   "cell_type": "code",
   "execution_count": 8,
   "metadata": {},
   "outputs": [],
   "source": [
    "coursesDF = pd.concat([pd.json_normalize(i)for i in courses_responses])"
   ]
  },
  {
   "cell_type": "code",
   "execution_count": 9,
   "metadata": {},
   "outputs": [],
   "source": [
    "#Gets all the external training\n",
    "Externaltraining_url = 'https://mccowngordon.docebosaas.com/learn/v1/external_training?page=1'\n",
    "Externaltraining_request = requests.get(url=Externaltraining_url, headers=headers)\n",
    "Externaltraining_json = json.loads(Externaltraining_request.text)\n",
    "Externaltraining_responses=list()\n",
    "i=1\n",
    "while Externaltraining_json['data']['has_more_data']== True or i==1:\n",
    "    Externaltraining_url = f'https://mccowngordon.docebosaas.com/learn/v1/external_training?page={i}'\n",
    "    Externaltraining_request = requests.get(url=Externaltraining_url, headers=headers)\n",
    "    Externaltraining_json = json.loads(Externaltraining_request.text)\n",
    "    Externaltraining_json_data = Externaltraining_json['data']['items']\n",
    "    Externaltraining_responses.append(Externaltraining_json_data)\n",
    "    i+=1"
   ]
  },
  {
   "cell_type": "code",
   "execution_count": null,
   "metadata": {},
   "outputs": [],
   "source": [
    "ExternaltrainingDF = pd.concat([pd.json_normalize(i)for i in Externaltraining_responses])\n",
    "ExternaltrainingDF"
   ]
  },
  {
   "cell_type": "code",
   "execution_count": null,
   "metadata": {},
   "outputs": [],
   "source": [
    "#Shows all enrollments, including completed. Takes over 12 minutes to load all the data. \n",
    "enrollments_url = 'https://mccowngordon.docebosaas.com/learn/v1/enrollments?page_size=500'\n",
    "enrollments_request = requests.get(url=enrollments_url, headers=headers)\n",
    "enrollments_json = json.loads(enrollments_request.text)\n",
    "enrollments_responses=list()\n",
    "i=1\n",
    "while enrollments_json['data']['has_more_data']== True or i==1:\n",
    "    enrollments_url = f'https://mccowngordon.docebosaas.com/learn/v1/enrollments?page={i}&page_size=500'\n",
    "    enrollments_request = requests.get(url=enrollments_url, headers=headers)\n",
    "    enrollments_json = json.loads(enrollments_request.text)\n",
    "    enrollments_json_data = enrollments_json['data']['items']\n",
    "    enrollments_responses.append(enrollments_json_data)\n",
    "    i+=1\n",
    "    print(i)\n",
    "\n",
    "\n"
   ]
  },
  {
   "cell_type": "code",
   "execution_count": null,
   "metadata": {},
   "outputs": [],
   "source": [
    "#Get's all user information\n",
    "users_url = 'https://mccowngordon.docebosaas.com/manage/v1/user'\n",
    "users_request = requests.get(url=users_url, headers=headers)\n",
    "users_json = json.loads(users_request.text)\n",
    "users_responses=list()\n",
    "i=1\n",
    "while users_json['data']['has_more_data']== True or i==1:\n",
    "    users_url = f'https://mccowngordon.docebosaas.com/manage/v1/user?page={i}'\n",
    "    users_request = requests.get(url=users_url, headers=headers)\n",
    "    users_json = json.loads(users_request.text)\n",
    "    users_json_data = users_json['data']['items']\n",
    "    users_responses.append(users_json_data)\n",
    "    i+=1\n",
    "    print(i)\n"
   ]
  },
  {
   "cell_type": "code",
   "execution_count": 5,
   "metadata": {},
   "outputs": [],
   "source": [
    "usersDF = pd.concat([pd.json_normalize(i)for i in users_responses])"
   ]
  },
  {
   "cell_type": "code",
   "execution_count": 27,
   "metadata": {},
   "outputs": [],
   "source": [
    "enrollmentsDF = pd.concat([pd.json_normalize(i)for i in enrollments_responses])\n",
    "df=enrollmentsDF\n"
   ]
  },
  {
   "cell_type": "code",
   "execution_count": 15,
   "metadata": {},
   "outputs": [],
   "source": [
    " \n",
    "prod_conn_params = urllib.parse.quote_plus(prod_params) \n",
    "prod_conn_str = \"mssql+pyodbc:///?odbc_connect={}\".format(prod_conn_params) \n",
    "engine_azure = create_engine(prod_conn_str, fast_executemany=True) \n",
    "\n",
    "def add_metadata(df, source_id='ENTER SOURCE ID'): \n",
    "    df[\"stgLoadDateTime\"] = dt.datetime.now() \n",
    "    load_time_stamp = df[\"stgLoadDateTime\"][0] \n",
    "    str2hash = load_time_stamp.strftime('%Y-%m-%d %X') \n",
    "    df[\"stgSourceID\"] = source_id \n",
    "    result = hashlib.md5(str(str2hash).encode()) \n",
    "    df[\"stgPipelineRunID\"] = result.hexdigest()   \n",
    "    return df "
   ]
  },
  {
   "cell_type": "code",
   "execution_count": null,
   "metadata": {},
   "outputs": [],
   "source": [
    "# enrollmentDF_metadata = add_metadata(enrollmentsDF, source_id=21)\n",
    "# externalTrainingDF_metadata = add_metadata(ExternaltrainingDF, source_id=21)\n",
    "# coursesDF_metadata= add_metadata(coursesDF, source_id=21)\n",
    "# certificationsDF_metadata= add_metadata(certificationsDF, source_id=21)\n",
    "# UsersDF_metadata= add_metadata(usersDF, source_id=21)\n",
    "\n",
    "\n",
    "enrollmentsDF"
   ]
  },
  {
   "cell_type": "code",
   "execution_count": 31,
   "metadata": {},
   "outputs": [],
   "source": [
    "enrollmentsDF['actions'] = enrollmentsDF['actions'].astype(str)"
   ]
  },
  {
   "cell_type": "code",
   "execution_count": null,
   "metadata": {},
   "outputs": [],
   "source": [
    "enrollmentsDF.to_sql( \n",
    "    schema=\"docebo\", \n",
    "    name=\"enrollment\", \n",
    "    con=engine_azure, \n",
    "    index=False, \n",
    "    if_exists=\"replace\",   \n",
    ") "
   ]
  },
  {
   "cell_type": "code",
   "execution_count": 17,
   "metadata": {},
   "outputs": [],
   "source": [
    "ExternaltrainingDF['additional_fields'] = ExternaltrainingDF['additional_fields'].astype(str)"
   ]
  },
  {
   "cell_type": "code",
   "execution_count": null,
   "metadata": {},
   "outputs": [],
   "source": [
    "ExternaltrainingDF.to_sql( \n",
    "    schema=\"docebo\", \n",
    "    name=\"external_training\", \n",
    "    con=engine_azure, \n",
    "    index=False, \n",
    "    if_exists=\"replace\",   \n",
    ") "
   ]
  },
  {
   "cell_type": "code",
   "execution_count": null,
   "metadata": {},
   "outputs": [],
   "source": [
    "coursesDF.to_sql( \n",
    "    schema=\"docebo\", \n",
    "    name=\"courses\", \n",
    "    con=engine_azure, \n",
    "    index=False, \n",
    "    if_exists=\"replace\",   \n",
    ") "
   ]
  },
  {
   "cell_type": "code",
   "execution_count": null,
   "metadata": {},
   "outputs": [],
   "source": [
    "certificationsDF.to_sql( \n",
    "    schema=\"docebo\", \n",
    "    name=\"certifications\", \n",
    "    con=engine_azure, \n",
    "    index=False, \n",
    "    if_exists=\"replace\",   \n",
    ") "
   ]
  },
  {
   "cell_type": "code",
   "execution_count": 39,
   "metadata": {},
   "outputs": [],
   "source": [
    "usersDF['actions'] = usersDF['actions'].astype(str)\n",
    "usersDF['managers'] = usersDF['managers'].astype(str)\n",
    "usersDF['multidomains'] = usersDF['multidomains'].astype(str)\n",
    "\n"
   ]
  },
  {
   "cell_type": "code",
   "execution_count": null,
   "metadata": {},
   "outputs": [],
   "source": [
    "usersDF.to_sql( \n",
    "    schema=\"docebo\", \n",
    "    name=\"users\", \n",
    "    con=engine_azure, \n",
    "    index=False, \n",
    "    if_exists=\"replace\",   \n",
    ") "
   ]
  },
  {
   "cell_type": "code",
   "execution_count": null,
   "metadata": {},
   "outputs": [],
   "source": [
    "usersX_url = 'https://mccowngordon.docebosaas.com/manage/v1/user/14135'\n",
    "usersX_request = requests.get(url=usersX_url, headers=headers)\n",
    "usersX_json = json.loads(usersX_request.text)\n",
    "usersX_json"
   ]
  },
  {
   "cell_type": "code",
   "execution_count": null,
   "metadata": {},
   "outputs": [],
   "source": [
    "#Create a dictionary linking every user_id with their branch ID\n",
    "BranchUsersDict={}\n",
    "FailedUsers=list()\n",
    "for i in usersDF['user_id']:\n",
    "    print(i)\n",
    "    usersX_url = f'https://mccowngordon.docebosaas.com/manage/v1/user/{i}'\n",
    "    usersX_request = requests.get(url=usersX_url, headers=headers)\n",
    "    usersX_json = json.loads(usersX_request.text)\n",
    "    try:\n",
    "        BranchUsersDict.update({i:usersX_json['data']['branches'][0]['id']})\n",
    "    except: \n",
    "        FailedUsers.append(i)"
   ]
  },
  {
   "cell_type": "code",
   "execution_count": null,
   "metadata": {},
   "outputs": [],
   "source": [
    "BranchUsersDict"
   ]
  },
  {
   "cell_type": "code",
   "execution_count": null,
   "metadata": {},
   "outputs": [],
   "source": [
    "Users_BranchesDF = pd.DataFrame(list(BranchUsersDict.items()))\n",
    "Users_BranchesDF.rename(columns={0:'user_id', 1:'branch_id'}, inplace=True)\n",
    "Users_BranchesDF"
   ]
  },
  {
   "cell_type": "code",
   "execution_count": 29,
   "metadata": {},
   "outputs": [
    {
     "data": {
      "text/plain": [
       "-1"
      ]
     },
     "execution_count": 29,
     "metadata": {},
     "output_type": "execute_result"
    }
   ],
   "source": [
    "Users_BranchesDF.to_sql( \n",
    "    schema=\"docebo\", \n",
    "    name=\"users_branch\", \n",
    "    con=engine_azure, \n",
    "    index=False, \n",
    "    if_exists=\"replace\",   \n",
    ") "
   ]
  },
  {
   "cell_type": "code",
   "execution_count": null,
   "metadata": {},
   "outputs": [],
   "source": [
    "#Not Category, this applies the each course instead of each user.\n",
    "\n",
    "# category_url = 'https://mccowngordon.docebosaas.com/learn/v1/categories'\n",
    "# category_request = requests.get(url=category_url, headers=headers)\n",
    "# category_json = json.loads(category_request.text)\n",
    "# category_json"
   ]
  },
  {
   "cell_type": "code",
   "execution_count": null,
   "metadata": {},
   "outputs": [],
   "source": [
    "### Probably Not Needed\n",
    "\n",
    "# department_url = 'https://mccowngordon.docebosaas.com/report/v1/branch_dashboard_enrollment/0/view'\n",
    "# department_request = requests.get(url=department_url, headers=headers)\n",
    "# department_json = json.loads(department_request.text)\n",
    "# department_json"
   ]
  },
  {
   "cell_type": "code",
   "execution_count": 7,
   "metadata": {},
   "outputs": [],
   "source": [
    "#Get's all branches and their children, only departments (id=2) and McCownGordon (id=0) needs to be called to get all branches\n",
    "\n",
    "branchlist= list()\n",
    "for i in range(0,100):\n",
    "    branch_url = f'https://mccowngordon.docebosaas.com/report/v1/branch_dashboard_enrollment/{i}/view'\n",
    "    branch_request = requests.get(url=branch_url, headers=headers)\n",
    "    branch_json = json.loads(branch_request.text)\n",
    "    if branch_request.status_code == 200:\n",
    "        branchlist.append(branch_json)\n",
    "        "
   ]
  },
  {
   "cell_type": "code",
   "execution_count": null,
   "metadata": {},
   "outputs": [],
   "source": [
    "branchlistMGC=branchlist[0]['data']['items']\n",
    "branchlistMGC"
   ]
  },
  {
   "cell_type": "code",
   "execution_count": null,
   "metadata": {},
   "outputs": [],
   "source": [
    "branchMGCDF = pd.DataFrame.from_dict(branchlistMGC)\n",
    "branchMGCDF"
   ]
  },
  {
   "cell_type": "code",
   "execution_count": null,
   "metadata": {},
   "outputs": [],
   "source": [
    "branchlistDepartments=branchlist[1]['data']['items']\n",
    "branchlistDepartments"
   ]
  },
  {
   "cell_type": "code",
   "execution_count": null,
   "metadata": {},
   "outputs": [],
   "source": [
    "branchDepartmentsDF = pd.DataFrame.from_dict(branchlistDepartments)\n",
    "branchDepartmentsDF"
   ]
  },
  {
   "cell_type": "code",
   "execution_count": null,
   "metadata": {},
   "outputs": [],
   "source": [
    "BranchesDF= pd.concat([branchMGCDF, branchDepartmentsDF])\n",
    "BranchesDF"
   ]
  },
  {
   "cell_type": "code",
   "execution_count": 16,
   "metadata": {},
   "outputs": [
    {
     "data": {
      "text/plain": [
       "-1"
      ]
     },
     "execution_count": 16,
     "metadata": {},
     "output_type": "execute_result"
    }
   ],
   "source": [
    "BranchesDF.to_sql( \n",
    "    schema=\"docebo\", \n",
    "    name=\"Branches\", \n",
    "    con=engine_azure, \n",
    "    index=False, \n",
    "    if_exists=\"replace\",   \n",
    ") "
   ]
  },
  {
   "cell_type": "code",
   "execution_count": null,
   "metadata": {},
   "outputs": [],
   "source": [
    "group_url = 'https://mccowngordon.docebosaas.com/manage/v1/group'\n",
    "group_request = requests.get(url=group_url, headers=headers)\n",
    "group_json = json.loads(group_request.text)\n",
    "group_json"
   ]
  },
  {
   "cell_type": "code",
   "execution_count": null,
   "metadata": {},
   "outputs": [],
   "source": [
    "#Use Group end point to get the deparment name and ID. use this endpoint to get members of the group by ID number\n",
    "groupMembers_url = 'https://mccowngordon.docebosaas.com/manage/v1/group/13052/members'\n",
    "groupMembers_request = requests.get(url=groupMembers_url, headers=headers)\n",
    "groupMembers_json = json.loads(groupMembers_request.text)\n",
    "groupMembers_json"
   ]
  }
 ],
 "metadata": {
  "kernelspec": {
   "display_name": "Python 3.10.5 64-bit (windows store)",
   "language": "python",
   "name": "python3"
  },
  "language_info": {
   "codemirror_mode": {
    "name": "ipython",
    "version": 3
   },
   "file_extension": ".py",
   "mimetype": "text/x-python",
   "name": "python",
   "nbconvert_exporter": "python",
   "pygments_lexer": "ipython3",
   "version": "3.10.6"
  },
  "orig_nbformat": 4,
  "vscode": {
   "interpreter": {
    "hash": "c4e1acd118ab8061854f053fd54ed8b4261f5a992a028a96bea4bc05dcdf42f1"
   }
  }
 },
 "nbformat": 4,
 "nbformat_minor": 2
}
